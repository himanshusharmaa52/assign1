{
  "nbformat": 4,
  "nbformat_minor": 0,
  "metadata": {
    "colab": {
      "provenance": [],
      "authorship_tag": "ABX9TyN/XbG6ILhBmSmjxNxcawVc",
      "include_colab_link": true
    },
    "kernelspec": {
      "name": "python3",
      "display_name": "Python 3"
    },
    "language_info": {
      "name": "python"
    }
  },
  "cells": [
    {
      "cell_type": "markdown",
      "metadata": {
        "id": "view-in-github",
        "colab_type": "text"
      },
      "source": [
        "<a href=\"https://colab.research.google.com/github/himanshusharmaa52/assign1/blob/main/Assignment_Functions.ipynb\" target=\"_parent\"><img src=\"https://colab.research.google.com/assets/colab-badge.svg\" alt=\"Open In Colab\"/></a>"
      ]
    },
    {
      "cell_type": "markdown",
      "source": [
        "Assignment - FUNCTIONS THEORY QUESTIONS"
      ],
      "metadata": {
        "id": "IB3nzyd6mvUO"
      }
    },
    {
      "cell_type": "markdown",
      "source": [
        "Q1- What is the difference between a function and a method in Python?"
      ],
      "metadata": {
        "id": "JL4AhnXCmxqp"
      }
    },
    {
      "cell_type": "markdown",
      "source": [
        "Ans - In Python, the terms \"function\" and \"method\" refer to two types of callable objects that perform operations, but they are used in different contexts and have distinct characteristics. Here’s a breakdown of the differences:\n",
        "\n",
        "Function\n",
        "Definition: A function is a block of reusable code that performs a specific task. Functions can be defined using the def keyword outside of any class.\n",
        "\n",
        "Scope: Functions are typically defined at the module level and can be called directly using their name. They are not bound to any object or class."
      ],
      "metadata": {
        "id": "c_upBhWHbfOr"
      }
    },
    {
      "cell_type": "markdown",
      "source": [],
      "metadata": {
        "id": "scv7QmDta8t_"
      }
    },
    {
      "cell_type": "code",
      "source": [
        "def add(a, b):\n",
        "    return a + b\n",
        "\n",
        "result = add(3, 5)  # Calls the function with 3 and 5 as arguments\n",
        "print(result)\n",
        ""
      ],
      "metadata": {
        "colab": {
          "base_uri": "https://localhost:8080/"
        },
        "id": "ZnV1lsd8bIML",
        "outputId": "a07db362-d1e1-48f6-bc0a-05df3c8b660a"
      },
      "execution_count": 1,
      "outputs": [
        {
          "output_type": "stream",
          "name": "stdout",
          "text": [
            "8\n"
          ]
        }
      ]
    },
    {
      "cell_type": "markdown",
      "source": [
        "Method\n",
        "Definition: A method is a function that is associated with an object or class. Methods are defined within a class and are meant to operate on the data contained within that class.\n",
        "\n",
        "Scope: Methods are bound to class instances (or the class itself for class methods) and typically operate on instance data or class data."
      ],
      "metadata": {
        "id": "WVZ7FIkkbN62"
      }
    },
    {
      "cell_type": "code",
      "source": [
        "class Calculator:\n",
        "    def add(self, a, b):\n",
        "        return a + b\n",
        "\n",
        "calc = Calculator()  # Create an instance of Calculator\n",
        "result = calc.add(3, 5)  # Calls the method on the instance\n",
        "print(result)\n",
        ""
      ],
      "metadata": {
        "colab": {
          "base_uri": "https://localhost:8080/"
        },
        "id": "N5bLuYeAbSlj",
        "outputId": "054c1bb3-e0fd-4d7c-9096-6c7386f9e192"
      },
      "execution_count": 2,
      "outputs": [
        {
          "output_type": "stream",
          "name": "stdout",
          "text": [
            "8\n"
          ]
        }
      ]
    },
    {
      "cell_type": "markdown",
      "source": [
        "Q2- Explain the concept of function arguments and parameters in Python.\n",
        "Ans - In Python, the terms \"arguments\" and \"parameters\" are fundamental concepts related to functions. They are often used interchangeably, but they have distinct meanings. Here’s a detailed explanation of both:\n",
        "\n",
        "Parameters:\n",
        "\n",
        "Parameters are variables listed in the function definition. They act as placeholders for the values that will be passed to the function when it is called. Parameters define what kind of arguments the function expects."
      ],
      "metadata": {
        "id": "-8Bx4GLubseV"
      }
    },
    {
      "cell_type": "code",
      "source": [
        "def function_name(param1, param2):\n",
        "    # Function body\n",
        "    pass"
      ],
      "metadata": {
        "id": "gQaxcbmKbuF_"
      },
      "execution_count": 3,
      "outputs": []
    },
    {
      "cell_type": "markdown",
      "source": [
        "Arguments:\n",
        "\n",
        "Arguments are the actual values or data you pass to a function when you call it. They replace the parameters in the function definition and are used by the function to perform its operations."
      ],
      "metadata": {
        "id": "qdMgXJt3byd7"
      }
    },
    {
      "cell_type": "code",
      "source": [
        "function_name(arg1, arg2)"
      ],
      "metadata": {
        "colab": {
          "base_uri": "https://localhost:8080/",
          "height": 144
        },
        "id": "o-uaMEzpb18V",
        "outputId": "16448042-8af1-42dd-97c1-7e6c1942c6b4"
      },
      "execution_count": 6,
      "outputs": [
        {
          "output_type": "error",
          "ename": "NameError",
          "evalue": "name 'arg1' is not defined",
          "traceback": [
            "\u001b[0;31m---------------------------------------------------------------------------\u001b[0m",
            "\u001b[0;31mNameError\u001b[0m                                 Traceback (most recent call last)",
            "\u001b[0;32m<ipython-input-6-3c1fe35798fb>\u001b[0m in \u001b[0;36m<cell line: 1>\u001b[0;34m()\u001b[0m\n\u001b[0;32m----> 1\u001b[0;31m \u001b[0mfunction_name\u001b[0m\u001b[0;34m(\u001b[0m\u001b[0marg1\u001b[0m\u001b[0;34m,\u001b[0m \u001b[0marg2\u001b[0m\u001b[0;34m)\u001b[0m\u001b[0;34m\u001b[0m\u001b[0;34m\u001b[0m\u001b[0m\n\u001b[0m",
            "\u001b[0;31mNameError\u001b[0m: name 'arg1' is not defined"
          ]
        }
      ]
    },
    {
      "cell_type": "markdown",
      "source": [
        "Types of Function Arguments\n",
        "1- Positional Arguments: These are the most common type of arguments and are passed to the function in the same order as the parameters in the function definition."
      ],
      "metadata": {
        "id": "4wjKFlgNb59X"
      }
    },
    {
      "cell_type": "code",
      "source": [
        "def greet(name, age):\n",
        "    print(f\"Hello {name}, you are {age} years old.\")\n",
        "\n",
        "greet(\"Alice\", 30)  # 'Alice' is assigned to 'name', and 30 is assigned to 'age'"
      ],
      "metadata": {
        "id": "n5d5XXrFb9Pn"
      },
      "execution_count": null,
      "outputs": []
    },
    {
      "cell_type": "markdown",
      "source": [
        "2- Keyword Arguments: These arguments are passed by explicitly specifying the parameter names and their values. This allows you to pass arguments in any order."
      ],
      "metadata": {
        "id": "dGWXc07ecDm0"
      }
    },
    {
      "cell_type": "code",
      "source": [
        "def greet(name, age):\n",
        "    print(f\"Hello {name}, you are {age} years old.\")\n",
        "\n",
        "greet(age=30, name=\"Alice\")  # 'name' and 'age' are specified explicitly\n",
        ""
      ],
      "metadata": {
        "id": "xShbXGxdcF_V"
      },
      "execution_count": null,
      "outputs": []
    },
    {
      "cell_type": "markdown",
      "source": [
        "3- Default Arguments: These arguments have default values specified in the function definition. If no value is passed for these arguments, the default value is used."
      ],
      "metadata": {
        "id": "0jaOoi0ZcJDi"
      }
    },
    {
      "cell_type": "code",
      "source": [
        "def greet(name, age=25):\n",
        "    print(f\"Hello {name}, you are {age} years old.\")\n",
        "\n",
        "greet(\"Alice\")  # 'age' will take the default value of 25\n",
        ""
      ],
      "metadata": {
        "id": "WNyyOJyQcReF"
      },
      "execution_count": null,
      "outputs": []
    },
    {
      "cell_type": "markdown",
      "source": [
        "4- Variable-Length Arguments:`\n",
        "\n",
        "*args: Used to pass a variable number of positional arguments. *args collects extra positional arguments as a tuple."
      ],
      "metadata": {
        "id": "Xz5KhamVcXzj"
      }
    },
    {
      "cell_type": "code",
      "source": [
        "def add_numbers(*args):\n",
        "    return sum(args)\n",
        "\n",
        "print(add_numbers(1, 2, 3, 4))\n",
        ""
      ],
      "metadata": {
        "id": "2z-pIKPocYxR"
      },
      "execution_count": null,
      "outputs": []
    },
    {
      "cell_type": "markdown",
      "source": [
        "**kwargs: Used to pass a variable number of keyword arguments. italicized text **kwargs collects extra keyword arguments as a dictionary.\n",
        "\n"
      ],
      "metadata": {
        "id": "VeiOANrKchcw"
      }
    },
    {
      "cell_type": "code",
      "source": [
        "def print_info(**kwargs):\n",
        "    for key, value in kwargs.items():\n",
        "        print(f\"{key}: {value}\")\n",
        "\n",
        "print_info(name=\"Alice\", age=30, city=\"Wonderland\")"
      ],
      "metadata": {
        "id": "SdWP93JQciLH"
      },
      "execution_count": null,
      "outputs": []
    },
    {
      "cell_type": "markdown",
      "source": [
        "Q3- What are the different ways to define and call a function in Python?\n",
        "Ans- In Python, functions can be defined and called in several ways to accommodate different programming needs. Here’s a comprehensive guide to the various methods for defining and calling functions:\n",
        "\n",
        "1. Basic Function Definition and Call"
      ],
      "metadata": {
        "id": "ffQij9eRctyv"
      }
    },
    {
      "cell_type": "markdown",
      "source": [
        "Definition:"
      ],
      "metadata": {
        "id": "AGpzEF_ec7oz"
      }
    },
    {
      "cell_type": "code",
      "source": [
        "def function_name(param1, param2):\n",
        "    # Function body\n",
        "    return param1 + param2"
      ],
      "metadata": {
        "id": "MLiMYttNcvQW"
      },
      "execution_count": null,
      "outputs": []
    },
    {
      "cell_type": "markdown",
      "source": [
        "Call:"
      ],
      "metadata": {
        "id": "Tb1gu7JldAVF"
      }
    },
    {
      "cell_type": "code",
      "source": [
        "result = function_name(10, 5)\n",
        "print(result)\n",
        ""
      ],
      "metadata": {
        "id": "KvH3sr0-dC7e"
      },
      "execution_count": null,
      "outputs": []
    },
    {
      "cell_type": "markdown",
      "source": [
        "2. Function with Default Arguments"
      ],
      "metadata": {
        "id": "jfBbA30kdHQq"
      }
    },
    {
      "cell_type": "markdown",
      "source": [
        "Definition:"
      ],
      "metadata": {
        "id": "P0n7ds7WdIao"
      }
    },
    {
      "cell_type": "code",
      "source": [
        "def greet(name, greeting=\"Hello\"):\n",
        "    return f\"{greeting}, {name}!\""
      ],
      "metadata": {
        "id": "ap12hjArdNMR"
      },
      "execution_count": null,
      "outputs": []
    },
    {
      "cell_type": "markdown",
      "source": [
        "Call:"
      ],
      "metadata": {
        "id": "6LaCnrMhdNoI"
      }
    },
    {
      "cell_type": "code",
      "source": [
        "print(greet(\"Alice\"))\n",
        "print(greet(\"Bob\", \"Hi\"))"
      ],
      "metadata": {
        "id": "c5ZlP7nVdQwI"
      },
      "execution_count": null,
      "outputs": []
    },
    {
      "cell_type": "markdown",
      "source": [
        "3. Function with Variable-Length Positional Arguments (*args)\n"
      ],
      "metadata": {
        "id": "patsrB4jdUXI"
      }
    },
    {
      "cell_type": "markdown",
      "source": [
        "Definition:"
      ],
      "metadata": {
        "id": "xq5DnfwCdXNK"
      }
    },
    {
      "cell_type": "code",
      "source": [
        "def add_numbers(*args):\n",
        "    return sum(args)\n",
        "\n"
      ],
      "metadata": {
        "id": "cRagtxK-fNx2"
      },
      "execution_count": null,
      "outputs": []
    },
    {
      "cell_type": "code",
      "source": [
        "Call:"
      ],
      "metadata": {
        "id": "CmSqf8CffOeZ"
      },
      "execution_count": null,
      "outputs": []
    },
    {
      "cell_type": "code",
      "source": [
        "print(add_numbers(1, 2, 3))\n",
        "print(add_numbers(1, 2, 3, 4, 5))\n",
        "\n"
      ],
      "metadata": {
        "id": "Sr1hbP9MfQ-T"
      },
      "execution_count": null,
      "outputs": []
    },
    {
      "cell_type": "markdown",
      "source": [
        "4. Function with Variable-Length Keyword Arguments (**kwargs)\n"
      ],
      "metadata": {
        "id": "TTMckHcAfcVI"
      }
    },
    {
      "cell_type": "markdown",
      "source": [
        "Definition:"
      ],
      "metadata": {
        "id": "p62zURZcfgjK"
      }
    },
    {
      "cell_type": "code",
      "source": [
        "def print_info(**kwargs):\n",
        "    for key, value in kwargs.items():\n",
        "        print(f\"{key}: {value}\""
      ],
      "metadata": {
        "id": "RgMi3dzdfjtF"
      },
      "execution_count": null,
      "outputs": []
    },
    {
      "cell_type": "markdown",
      "source": [
        "Call:"
      ],
      "metadata": {
        "id": "MbvjzPNpfpg4"
      }
    },
    {
      "cell_type": "code",
      "source": [
        "print_info(name=\"Alice\", age=30, city=\"Wonderland\")"
      ],
      "metadata": {
        "id": "oUqxA8ePfqL3"
      },
      "execution_count": null,
      "outputs": []
    },
    {
      "cell_type": "markdown",
      "source": [
        "5. Lambda Functions\n"
      ],
      "metadata": {
        "id": "pYpOwBiBfxNo"
      }
    },
    {
      "cell_type": "markdown",
      "source": [
        "Definition:"
      ],
      "metadata": {
        "id": "6hfwAeLgfx-S"
      }
    },
    {
      "cell_type": "code",
      "source": [
        "add = lambda x, y: x + y"
      ],
      "metadata": {
        "id": "37eoknmgf0fO"
      },
      "execution_count": null,
      "outputs": []
    },
    {
      "cell_type": "markdown",
      "source": [
        "Call:"
      ],
      "metadata": {
        "id": "QveNAZb9f58_"
      }
    },
    {
      "cell_type": "code",
      "source": [
        "print(add(10, 5))"
      ],
      "metadata": {
        "id": "7WMpNOglf6rG"
      },
      "execution_count": null,
      "outputs": []
    },
    {
      "cell_type": "markdown",
      "source": [
        "6. Functions as First-Class Objects\n",
        "Functions in Python are first-class objects, meaning you can assign them to variables, pass them as arguments, and return them from other functions.\n",
        "\n"
      ],
      "metadata": {
        "id": "wPPt8dHCgACB"
      }
    },
    {
      "cell_type": "code",
      "source": [
        "def multiply(x, y):\n",
        "    return x * y\n",
        "\n",
        "def apply_function(func, a, b):\n",
        "    return func(a, b)\n",
        "\n",
        "result = apply_function(multiply, 4, 5)\n",
        "print(result)"
      ],
      "metadata": {
        "id": "42G5l4-mgCUZ"
      },
      "execution_count": null,
      "outputs": []
    },
    {
      "cell_type": "markdown",
      "source": [
        "7. Nested Functions\n"
      ],
      "metadata": {
        "id": "SrzitFWegDSG"
      }
    },
    {
      "cell_type": "markdown",
      "source": [
        "Definition:"
      ],
      "metadata": {
        "id": "dn_xN_XjgGBo"
      }
    },
    {
      "cell_type": "code",
      "source": [
        "def outer_function(x):\n",
        "    def inner_function(y):\n",
        "        return y * y\n",
        "    return inner_function(x) + 10"
      ],
      "metadata": {
        "id": "fEM1QHo9gJOU"
      },
      "execution_count": null,
      "outputs": []
    },
    {
      "cell_type": "markdown",
      "source": [
        "Call:"
      ],
      "metadata": {
        "id": "HuGMy2nNgOoa"
      }
    },
    {
      "cell_type": "code",
      "source": [
        "print(outer_function(5))  # Output: 35\n",
        "\n",
        "# Note: Nested functions (functions defined within another function) can access variables from their enclosing scope\n",
        "\n"
      ],
      "metadata": {
        "id": "HyUW0P6LgPem"
      },
      "execution_count": null,
      "outputs": []
    },
    {
      "cell_type": "markdown",
      "source": [
        "8. Recursive Functions"
      ],
      "metadata": {
        "id": "R6VqiTBGgUDB"
      }
    },
    {
      "cell_type": "markdown",
      "source": [
        "Definition:"
      ],
      "metadata": {
        "id": "TxCZWxPRgU0C"
      }
    },
    {
      "cell_type": "code",
      "source": [
        "def factorial(n):\n",
        "    if n == 0:\n",
        "        return 1\n",
        "    else:\n",
        "        return n * factorial(n-1)"
      ],
      "metadata": {
        "id": "a0_8Q8gwgY0f"
      },
      "execution_count": null,
      "outputs": []
    },
    {
      "cell_type": "markdown",
      "source": [
        "Call:"
      ],
      "metadata": {
        "id": "BrwLh9Bogcdm"
      }
    },
    {
      "cell_type": "code",
      "source": [
        "print(factorial(5))  # Output: 120\n",
        "\n",
        "# Note: Recursive functions call themselves to solve a problem in smaller subproblems. Ensure there is a base case to prevent infinite recursion.\n",
        "\n"
      ],
      "metadata": {
        "id": "LD05bnF6gdAi"
      },
      "execution_count": null,
      "outputs": []
    },
    {
      "cell_type": "markdown",
      "source": [
        "9. Using functools.partial for Partial Function Application"
      ],
      "metadata": {
        "id": "bMnohnOUglFp"
      }
    },
    {
      "cell_type": "markdown",
      "source": [
        "Definition:"
      ],
      "metadata": {
        "id": "LooHBzNOgohD"
      }
    },
    {
      "cell_type": "code",
      "source": [
        "from functools import partial\n",
        "\n",
        "def power(base, exponent):\n",
        "    return base ** exponent\n",
        "\n",
        "square = partial(power, exponent=2)\n",
        ""
      ],
      "metadata": {
        "id": "QnOly4p1gr6L"
      },
      "execution_count": null,
      "outputs": []
    },
    {
      "cell_type": "markdown",
      "source": [
        "Call:"
      ],
      "metadata": {
        "id": "Iisyti9ugwF6"
      }
    },
    {
      "cell_type": "code",
      "source": [
        "print(square(5))  # Output: 25\n",
        "\n",
        "# Note: functools.partial allows you to \"freeze\" some portion of a function’s arguments, creating a new function with fewer arguments.\n",
        ""
      ],
      "metadata": {
        "id": "0BmLRdVygyPE"
      },
      "execution_count": null,
      "outputs": []
    },
    {
      "cell_type": "markdown",
      "source": [],
      "metadata": {
        "id": "5R0bvq8vg3kr"
      }
    },
    {
      "cell_type": "markdown",
      "source": [
        "Q4- What is the purpose of the return statement in a Python function?\n",
        "Ans- The return statement in a Python function is used to exit the function and optionally pass back a value to the caller. Here’s a detailed look at its purpose and functionality:\n",
        "\n",
        "Purpose of the return Statement\n",
        "\n",
        "Exit a Function: The primary purpose of the return statement is to exit a function. When return is executed, the function terminates immediately, and control is transferred back to the caller.\n",
        "\n",
        "Return a Value: The return statement allows you to pass a value from the function back to the caller. This is useful for functions that perform computations or operations and need to provide a result.\n",
        "\n",
        "End Function Execution: After a return statement is executed, no further code in the function is executed. This makes return useful for terminating a function early based on certain conditions.\n",
        "\n"
      ],
      "metadata": {
        "id": "psMA0Lzog4K7"
      }
    },
    {
      "cell_type": "markdown",
      "source": [
        "Examples\n",
        "1- Returning a Value:"
      ],
      "metadata": {
        "id": "I1oNeplFg6ui"
      }
    },
    {
      "cell_type": "code",
      "source": [
        "def add(x, y):\n",
        "    return x + y\n",
        "\n",
        "result = add(5, 3)\n",
        "print(result)"
      ],
      "metadata": {
        "colab": {
          "base_uri": "https://localhost:8080/"
        },
        "id": "DfApX86Eg-JT",
        "outputId": "ac81dfac-b565-4826-c354-beb81265ec08"
      },
      "execution_count": 7,
      "outputs": [
        {
          "output_type": "stream",
          "name": "stdout",
          "text": [
            "8\n"
          ]
        }
      ]
    },
    {
      "cell_type": "markdown",
      "source": [
        "2- Returning Multiple Values:\n",
        "\n"
      ],
      "metadata": {
        "id": "nbHDVfE7hC5i"
      }
    },
    {
      "cell_type": "code",
      "source": [
        "def get_person_info():\n",
        "    name = \"Alice\"\n",
        "    age = 30\n",
        "    return name, age\n",
        "\n",
        "person_name, person_age = get_person_info()\n",
        "print(person_name, person_age)"
      ],
      "metadata": {
        "colab": {
          "base_uri": "https://localhost:8080/"
        },
        "id": "rfEQoilihFsI",
        "outputId": "97244eff-9b81-4241-d5d4-7d3d984ff1e8"
      },
      "execution_count": 8,
      "outputs": [
        {
          "output_type": "stream",
          "name": "stdout",
          "text": [
            "Alice 30\n"
          ]
        }
      ]
    },
    {
      "cell_type": "markdown",
      "source": [
        "3- Returning Early:"
      ],
      "metadata": {
        "id": "X9p5NRQxhJas"
      }
    },
    {
      "cell_type": "code",
      "source": [
        "def divide(a, b):\n",
        "    if b == 0:\n",
        "        return \"Error: Division by zero!\"\n",
        "    return a / b\n",
        "\n",
        "print(divide(10, 2))\n",
        "print(divide(10, 0))"
      ],
      "metadata": {
        "colab": {
          "base_uri": "https://localhost:8080/"
        },
        "id": "oblXXwZJhKHe",
        "outputId": "1b34ac62-3364-43b3-9b95-7206e846ed29"
      },
      "execution_count": 9,
      "outputs": [
        {
          "output_type": "stream",
          "name": "stdout",
          "text": [
            "5.0\n",
            "Error: Division by zero!\n"
          ]
        }
      ]
    },
    {
      "cell_type": "markdown",
      "source": [
        "4- Implicit Return:"
      ],
      "metadata": {
        "id": "38yhPyNvhOaO"
      }
    },
    {
      "cell_type": "code",
      "source": [
        "def no_return():\n",
        "    print(\"This function has no return statement.\")\n",
        "\n",
        "result = no_return()\n",
        "print(result)"
      ],
      "metadata": {
        "id": "jGbce_QKhO6Q"
      },
      "execution_count": null,
      "outputs": []
    },
    {
      "cell_type": "markdown",
      "source": [
        "Q5- What are iterators in Python and how do they differ from iterables?\n",
        "Ans- In Python, iterators and iterables are core concepts related to iteration and looping. Understanding their differences and how they work is essential for effective Python programming. Here's a detailed explanation:\n",
        "\n",
        "Iterables\n",
        "Definition: An iterable is any Python object that can be iterated over (looped through) using a for loop. Iterables implement the iter() method, which returns an iterator.\n",
        "\n",
        "Examples of Iterables:\n",
        "\n",
        "a- Lists\n",
        "\n",
        "b- Tuples\n",
        "\n",
        "c- Strings\n",
        "\n",
        "d- Dictionaries\n",
        "\n",
        "e- Sets\n",
        "\n",
        "Key Points: Iterables can be used in a for loop, comprehensions, or other contexts that require iteration. They have an iter() method that returns an iterator.\n",
        "\n",
        "Example:"
      ],
      "metadata": {
        "id": "EvXgqMmQhXSG"
      }
    },
    {
      "cell_type": "code",
      "source": [
        "# A list is an iterable\n",
        "numbers = [1, 2, 3, 4, 5]\n",
        "\n",
        "# Iterating over the list\n",
        "for number in numbers:\n",
        "    print(number)\n",
        ""
      ],
      "metadata": {
        "id": "zesKIxM2hYZ3"
      },
      "execution_count": null,
      "outputs": []
    },
    {
      "cell_type": "markdown",
      "source": [
        "Iterators\n",
        "Definition:\n",
        "\n",
        "An iterator is an object that represents a stream of data and supports iteration. It implements two methods:\n",
        "\n",
        "iter() which returns the iterator object itself.\n",
        "\n",
        "next() (or next() in Python 2) which returns the next item in the sequence. When there are no more items, it raises a StopIteration exception.\n",
        "\n",
        "Key Points:\n",
        "\n",
        "Iterators are used to traverse through a sequence of values. They keep track of the current state during iteration. They are created from iterables by calling iter() on the iterable.\n",
        "\n",
        "Example:"
      ],
      "metadata": {
        "id": "oP5ftriBhdFS"
      }
    },
    {
      "cell_type": "code",
      "source": [
        "# Creating an iterator from a list\n",
        "numbers = [1, 2, 3, 4, 5]\n",
        "iterator = iter(numbers)\n",
        "\n",
        "# Iterating using the iterator\n",
        "while True:\n",
        "    try:\n",
        "        number = next(iterator)\n",
        "        print(number)\n",
        "    except StopIteration:\n",
        "        break\n",
        ""
      ],
      "metadata": {
        "colab": {
          "base_uri": "https://localhost:8080/"
        },
        "id": "fClAVb4ohdvf",
        "outputId": "4b1c8dbb-cba6-4ecb-9e4d-e99691d53fa0"
      },
      "execution_count": 10,
      "outputs": [
        {
          "output_type": "stream",
          "name": "stdout",
          "text": [
            "1\n",
            "2\n",
            "3\n",
            "4\n",
            "5\n"
          ]
        }
      ]
    },
    {
      "cell_type": "markdown",
      "source": [
        "Differences Between Iterables and Iterators\n",
        "Definition and Purpose:\n",
        "Iterable: An object that can return an iterator. It defines the iter() method. Iterator: An object that maintains its state while iterating. It defines both iter() and next() methods.\n",
        "\n",
        "State Management:\n",
        "Iterable: Does not maintain state; it can be iterated over multiple times. Each call to iter() returns a new iterator. Iterator: Maintains its state; each call to next() returns the next item until it raises StopIteration.\n",
        "\n",
        "Usage:\n",
        "Iterable: Can be used to get an iterator and can be iterated over multiple times.\n",
        "\n",
        "Iterator: Used to traverse through data; it is exhausted once it has iterated over all items.\n",
        "\n",
        "Creation:\n",
        "Iterable: Any object that implements iter().\n",
        "\n",
        "Iterator: Created by calling iter() on an iterable, which returns an iterator object.\n",
        "\n"
      ],
      "metadata": {
        "id": "e4hUxPaHhj1O"
      }
    },
    {
      "cell_type": "markdown",
      "source": [
        "Q6- Explain the concept of generators in Python and how they are defined."
      ],
      "metadata": {
        "id": "o85iuLxbhk4T"
      }
    },
    {
      "cell_type": "markdown",
      "source": [
        "Ans- Generators in Python provide a powerful and efficient way to create iterators. They are used to produce items one at a time and only when needed, which can save memory and improve performance compared to using lists, especially with large datasets.\n",
        "\n",
        "What Are Generators?\n",
        "Generators are a type of iterable, like lists or tuples, but with the following characteristics:\n",
        "\n",
        "1- They produce items on-the-fly and do not store them in memory.\n",
        "\n",
        "2- They are defined using functions with the yield statement instead of return.\n",
        "\n",
        "3- They maintain their state between successive calls to yield, allowing them to resume where they left off.\n",
        "\n",
        "How Generators Are Defined\n",
        "\n",
        "Generators are defined using a function that contains one or more yield statements. When a generator function is called, it returns a generator object without executing the function immediately. The function’s code is executed each time the yield statement is encountered. Key Points About Generators\n",
        "\n",
        "Lazy Evaluation: Generators compute values only when requested. This lazy evaluation makes them more memory-efficient for large datasets.\n",
        "\n",
        "Stateful: Generators maintain their state between yields, which allows them to continue from where they left off.\n",
        "\n",
        "Iterable: Generator objects can be used in loops and other contexts that require iteration.\n",
        "\n",
        "Example of a Generator\n",
        "\n",
        "Let's create a generator function that produces a sequence of numbers up to a given limit.\n",
        "\n",
        "Generator Function Example:"
      ],
      "metadata": {
        "id": "QfFQlzOVhvKI"
      }
    },
    {
      "cell_type": "code",
      "source": [
        "def count_up_to(max):\n",
        "    count = 1\n",
        "    while count <= max:\n",
        "        yield count\n",
        "        count += 1\n",
        "\n",
        "# Using the generator\n",
        "counter = count_up_to(5)\n",
        "\n",
        "for number in counter:\n",
        "    print(number)"
      ],
      "metadata": {
        "colab": {
          "base_uri": "https://localhost:8080/"
        },
        "id": "l7t0en3ah2fa",
        "outputId": "63441ec4-abd3-420e-e3c5-29d1b61ef508"
      },
      "execution_count": 11,
      "outputs": [
        {
          "output_type": "stream",
          "name": "stdout",
          "text": [
            "1\n",
            "2\n",
            "3\n",
            "4\n",
            "5\n"
          ]
        }
      ]
    },
    {
      "cell_type": "markdown",
      "source": [],
      "metadata": {
        "id": "BFuMmOTTh53P"
      }
    },
    {
      "cell_type": "markdown",
      "source": [
        "Q7- What are the advantages of using generators over regular functions?\n",
        "Ans- Generators offer several advantages over regular functions, particularly when dealing with large datasets or when you need efficient and clean iteration. Here are some key advantages of using generators:\n",
        "\n",
        "Advantages of Generators\n",
        "\n",
        "Memory Efficiency: Generators produce values one at a time and do not store the entire sequence in memory. This is especially useful for handling large datasets or streams of data that would otherwise consume a lot of memory if stored all at once.\n",
        "\n",
        "Lazy Evaluation: Generators compute values only when needed, which can lead to better performance, especially when working with sequences where not all values are needed immediately.\n",
        "\n",
        "Simplified Code: Generators can simplify code by avoiding the need for explicit iterator classes. They provide a clean and readable way to implement iteration with less boilerplate code.\n",
        "\n",
        "Infinite Sequences: Generators can represent infinite sequences, such as streaming data or ongoing computations, since they generate values on-the-fly without needing to precompute or store all values.\n",
        "\n",
        "State Preservation: Generators automatically preserve their state between yields, making them well-suited for problems where you need to maintain context or intermediate results.\n",
        "\n",
        "Example: Comparing a Generator to a Regular Function\n",
        "\n",
        "Scenario: Generating a Fibonacci Sequence\n",
        "\n",
        "1. Using a Regular Function:"
      ],
      "metadata": {
        "id": "8XNtleIeh6iN"
      }
    },
    {
      "cell_type": "code",
      "source": [
        "def fibonacci(n):\n",
        "    fibs = []\n",
        "    a, b = 0, 1\n",
        "    while len(fibs) < n:\n",
        "        fibs.append(a)\n",
        "        a, b = b, a + b\n",
        "    return fibs\n",
        "\n",
        "# Usage\n",
        "n = 10\n",
        "fib_sequence = fibonacci(n)\n",
        "print(fib_sequence)"
      ],
      "metadata": {
        "id": "LfhIE8Q3h9_n"
      },
      "execution_count": null,
      "outputs": []
    },
    {
      "cell_type": "markdown",
      "source": [
        "2. Using a Generator Function:"
      ],
      "metadata": {
        "id": "OhMf6Y8EiDuz"
      }
    },
    {
      "cell_type": "code",
      "source": [
        "def fibonacci_generator():\n",
        "    a, b = 0, 1\n",
        "    while True:\n",
        "        yield a\n",
        "        a, b = b, a + b\n",
        "\n",
        "# Usage\n",
        "n = 10\n",
        "fib_gen = fibonacci_generator()\n",
        "\n",
        "for _ in range(n):\n",
        "    print(next(fib_gen))\n",
        ""
      ],
      "metadata": {
        "id": "0rJeKzQbiGcA"
      },
      "execution_count": null,
      "outputs": []
    },
    {
      "cell_type": "markdown",
      "source": [],
      "metadata": {
        "id": "0xYqBgrJiNNO"
      }
    },
    {
      "cell_type": "markdown",
      "source": [
        "Q8- What is a lambda function in Python and when is it typically used?\n",
        "Ans- A lambda function in Python is a small, anonymous function defined using the lambda keyword. Lambda functions are useful for creating short-lived functions that are not intended to be reused elsewhere. They are often used in scenarios where a simple function is needed temporarily and defining a full function with def would be cumbersome.\n",
        "\n",
        "Key Characteristics of Lambda Functions\n",
        "\n",
        "Anonymous: Lambda functions are unnamed; they are often used in places where functions are required as arguments.\n",
        "\n",
        "Single Expression: They can only contain a single expression. This means that lambda functions can’t contain statements or multiple expressions.\n",
        "\n",
        "Return Value: The result of the single expression is automatically returned.\n",
        "\n",
        "Typical Uses of Lambda Functions\n",
        "\n",
        "In-line Functions: Useful for simple operations that can be defined in a single line.\n",
        "\n",
        "Higher-Order Functions: Often used with functions like map(), filter(), and sorted() to provide custom operations.\n",
        "\n",
        "Short-Lived Functions: Ideal for functions that are used only once or a few times in the code.\n",
        "\n",
        "Example: Using Lambda with sorted( )\n",
        "\n",
        "Suppose you have a list of tuples where each tuple represents a person's name and age, and you want to sort this list by age.\n",
        "\n",
        "Example with sorted() and Lambda Function:"
      ],
      "metadata": {
        "id": "HNnEybiDiNQG"
      }
    },
    {
      "cell_type": "code",
      "source": [
        "people = [(\"Alice\", 30), (\"Bob\", 25), (\"Charlie\", 35)]\n",
        "\n",
        "# Sort people by age using a lambda function\n",
        "sorted_people = sorted(people, key=lambda person: person[1])\n",
        "\n",
        "print(sorted_people)"
      ],
      "metadata": {
        "id": "Kwhfwyu_iQvY"
      },
      "execution_count": null,
      "outputs": []
    },
    {
      "cell_type": "markdown",
      "source": [],
      "metadata": {
        "id": "IlawZJRBiVug"
      }
    },
    {
      "cell_type": "markdown",
      "source": [
        "Q9- Explain the purpose and usage of the map() function in Python.\n",
        "Ans- The map() function in Python is used to apply a given function to each item in an iterable (like a list or tuple) and return a map object (which is an iterator) of the results. It is a convenient way to perform the same operation on each item of an iterable without having to write explicit loops.\n",
        "\n",
        "Purpose of map()\n",
        "Apply a Function to All Elements: The primary purpose of map() is to apply a function to each element of an iterable and return an iterator of the results. This allows you to perform a transformation or computation across a collection of items efficiently.\n",
        "\n",
        "Avoid Explicit Loops: Using map() can make code more concise and readable compared to writing explicit for loops for transformations.\n",
        "\n",
        "Example:\n",
        "\n",
        "Let's use map() to convert a list of temperatures from Celsius to Fahrenheit.\n",
        "\n",
        "Temperature Conversion Example:"
      ],
      "metadata": {
        "id": "gL7yeEuxiV1l"
      }
    },
    {
      "cell_type": "code",
      "source": [
        "# Define the conversion function\n",
        "def celsius_to_fahrenheit(celsius):\n",
        "    return (celsius * 9/5) + 32\n",
        "\n",
        "# List of temperatures in Celsius\n",
        "celsius_temps = [0, 10, 20, 30, 40]\n",
        "\n",
        "# Use map() to apply the conversion function to each temperature\n",
        "fahrenheit_temps = map(celsius_to_fahrenheit, celsius_temps)\n",
        "\n",
        "# Convert the map object to a list to see the results\n",
        "fahrenheit_temps_list = list(fahrenheit_temps)\n",
        "\n",
        "print(fahrenheit_temps_list)"
      ],
      "metadata": {
        "id": "XVtU2K1ziW3O"
      },
      "execution_count": null,
      "outputs": []
    },
    {
      "cell_type": "markdown",
      "source": [
        "Using Lambda with map()\n",
        "Lambda functions can be used with map() to provide concise, one-off functions without having to define a separate function."
      ],
      "metadata": {
        "id": "roN40xUMiblc"
      }
    },
    {
      "cell_type": "markdown",
      "source": [
        "Example Using Lambda:"
      ],
      "metadata": {
        "id": "pZSPwqTEifN6"
      }
    },
    {
      "cell_type": "code",
      "source": [
        "# List of numbers\n",
        "numbers = [1, 2, 3, 4, 5]\n",
        "\n",
        "# Use map() with a lambda function to square each number\n",
        "squared_numbers = map(lambda x: x ** 2, numbers)\n",
        "\n",
        "# Convert the map object to a list\n",
        "squared_numbers_list = list(squared_numbers)\n",
        "\n",
        "print(squared_numbers_list)"
      ],
      "metadata": {
        "id": "2vyMjT9Yif2c"
      },
      "execution_count": null,
      "outputs": []
    },
    {
      "cell_type": "markdown",
      "source": [],
      "metadata": {
        "id": "24JMa33LiqMO"
      }
    },
    {
      "cell_type": "markdown",
      "source": [
        "Q10- What is the difference between map(), reduce(), and filter() functions in Python?\n",
        "Ans- In Python, map(), reduce(), and filter() are built-in functions that facilitate functional programming by applying functions to iterables. Here’s a detailed look at each function, their differences, and examples to illustrate their usage:\n",
        "\n",
        "New Section\n",
        "1. map()\n",
        "Purpose: map() applies a given function to each item in an iterable (like a list or tuple) and returns an iterator of the results."
      ],
      "metadata": {
        "id": "8Q2duOdsiqOQ"
      }
    },
    {
      "cell_type": "code",
      "source": [
        "def celsius_to_fahrenheit(celsius):\n",
        "    return (celsius * 9/5) + 32\n",
        "\n",
        "celsius_temps = [0, 10, 20, 30, 40]\n",
        "fahrenheit_temps = map(celsius_to_fahrenheit, celsius_temps)\n",
        "fahrenheit_temps_list = list(fahrenheit_temps)\n",
        "\n",
        "print(fahrenheit_temps_list)"
      ],
      "metadata": {
        "id": "EK3h1kBsir3w"
      },
      "execution_count": null,
      "outputs": []
    },
    {
      "cell_type": "markdown",
      "source": [
        "2. filter()\n",
        "Purpose: filter() applies a given function to each item in an iterable and returns an iterator containing only the items for which the function returns True."
      ],
      "metadata": {
        "id": "AIl6yzKQiw81"
      }
    },
    {
      "cell_type": "code",
      "source": [
        "def is_even(number):\n",
        "    return number % 2 == 0\n",
        "\n",
        "numbers = [1, 2, 3, 4, 5, 6]\n",
        "even_numbers = filter(is_even, numbers)\n",
        "even_numbers_list = list(even_numbers)\n",
        "\n",
        "print(even_numbers_list)"
      ],
      "metadata": {
        "id": "-NrT5ljziy77"
      },
      "execution_count": null,
      "outputs": []
    },
    {
      "cell_type": "markdown",
      "source": [
        "3. reduce()\n",
        "Purpose: reduce() (from the functools module) applies a given function cumulatively to the items of an iterable, reducing it to a single value."
      ],
      "metadata": {
        "id": "n6ES2YHFi3iF"
      }
    },
    {
      "cell_type": "code",
      "source": [
        "from functools import reduce\n",
        "\n",
        "def multiply(x, y):\n",
        "    return x * y\n",
        "\n",
        "numbers = [1, 2, 3, 4]\n",
        "product = reduce(multiply, numbers)\n",
        "\n",
        "print(product)\n",
        ""
      ],
      "metadata": {
        "id": "o4bsv-g1i3_i"
      },
      "execution_count": null,
      "outputs": []
    },
    {
      "cell_type": "code",
      "source": [],
      "metadata": {
        "id": "Molc9rP8jFhg"
      },
      "execution_count": null,
      "outputs": []
    },
    {
      "cell_type": "markdown",
      "source": [],
      "metadata": {
        "id": "YkjeMQFWjH4u"
      }
    },
    {
      "cell_type": "markdown",
      "source": [],
      "metadata": {
        "id": "lbpMEPhijE7u"
      }
    },
    {
      "cell_type": "code",
      "source": [],
      "metadata": {
        "id": "x16LPLanjEw_"
      },
      "execution_count": null,
      "outputs": []
    },
    {
      "cell_type": "code",
      "source": [],
      "metadata": {
        "id": "kHv22NvFjEns"
      },
      "execution_count": null,
      "outputs": []
    },
    {
      "cell_type": "markdown",
      "source": [
        "PRACTICAL QUESTIONS"
      ],
      "metadata": {
        "id": "H4obmJS9jOHs"
      }
    },
    {
      "cell_type": "markdown",
      "source": [
        "Q1- Write a Python function that takes a list of numbers as input and returns the sum of all even numbers in the list.\n"
      ],
      "metadata": {
        "id": "6sdWNHcsjRUK"
      }
    },
    {
      "cell_type": "code",
      "source": [
        "def sum_of_evens(numbers):\n",
        "    # Initialize a variable to store the sum of even numbers\n",
        "    total = 0\n",
        "\n",
        "    # Iterate through each number in the list\n",
        "    for number in numbers:\n",
        "        # Check if the number is even\n",
        "        if number % 2 == 0:\n",
        "            # Add the even number to the total\n",
        "            total += number\n",
        "\n",
        "    # Return the total sum of even numbers\n",
        "    return total\n",
        "\n",
        "# Example usage:\n",
        "numbers = [1, 2, 3, 4, 5, 6]\n",
        "print(sum_of_evens(numbers))  # Output will be 12 (2 + 4 + 6)"
      ],
      "metadata": {
        "id": "3jxocsu-jT9d"
      },
      "execution_count": null,
      "outputs": []
    },
    {
      "cell_type": "markdown",
      "source": [
        "Q2- Create a Python function that accepts a string and returns the reverse of that string."
      ],
      "metadata": {
        "id": "bBTJ3I3bjXyB"
      }
    },
    {
      "cell_type": "code",
      "source": [
        "def reverse_string(s):\n",
        "    # Use slicing to reverse the string\n",
        "    return s[::-1]\n",
        "\n",
        "# Example usage:\n",
        "input_string = \"Hello, World!\"\n",
        "print(reverse_string(input_string))  # Output will be \"!dlroW ,olleH\"\n",
        ""
      ],
      "metadata": {
        "id": "VW0Qb4G8jeVg"
      },
      "execution_count": null,
      "outputs": []
    },
    {
      "cell_type": "markdown",
      "source": [
        "Q3- Implement a Python function that takes a list of integers and returns a new list containing the squares of each number.\n"
      ],
      "metadata": {
        "id": "BUp4uXRNjfU0"
      }
    },
    {
      "cell_type": "code",
      "source": [
        "def square_numbers(numbers):\n",
        "    # Use a list comprehension to create a new list with the squares of each number\n",
        "    return [number ** 2 for number in numbers]\n",
        "\n",
        "# Example usage:\n",
        "input_list = [1, 2, 3, 4, 5]\n",
        "print(square_numbers(input_list))  # Output will be [1, 4, 9, 16, 25]\n",
        ""
      ],
      "metadata": {
        "id": "wbglgQGKjjFK"
      },
      "execution_count": null,
      "outputs": []
    },
    {
      "cell_type": "markdown",
      "source": [
        "Q4- Write a Python function that checks if a given number is prime or not from 1 to 200."
      ],
      "metadata": {
        "id": "E-A2n4F2jrJ3"
      }
    },
    {
      "cell_type": "code",
      "source": [
        "def is_prime(n):\n",
        "    # Check if the number is less than 2, which are not prime numbers\n",
        "    if n <= 1:\n",
        "        return False\n",
        "    # Check if the number is 2 or 3, which are prime\n",
        "    if n <= 3:\n",
        "        return True\n",
        "    # Eliminate numbers divisible by 2 or 3\n",
        "    if n % 2 == 0 or n % 3 == 0:\n",
        "        return False\n",
        "    # Check for factors from 5 to the square root of n\n",
        "    i = 5\n",
        "    while i * i <= n:\n",
        "        if n % i == 0 or n % (i + 2) == 0:\n",
        "            return False\n",
        "        i += 6\n",
        "    return True\n",
        "\n",
        "# Example usage:\n",
        "number = 29\n",
        "print(f\"Is {number} prime? {is_prime(number)}\")  # Output will be True\n",
        ""
      ],
      "metadata": {
        "id": "vJa56kG0jsLr"
      },
      "execution_count": null,
      "outputs": []
    },
    {
      "cell_type": "markdown",
      "source": [
        "Q5- Create an iterator class in Python that generates the Fibonacci sequence up to a specified number of terms.\n"
      ],
      "metadata": {
        "id": "phtxDiDIjylI"
      }
    },
    {
      "cell_type": "code",
      "source": [
        "class FibonacciIterator:\n",
        "    def __init__(self, terms):\n",
        "        self.terms = terms\n",
        "        self.a, self.b = 0, 1\n",
        "        self.count = 0\n",
        "\n",
        "    def __iter__(self):\n",
        "        return self\n",
        "\n",
        "    def __next__(self):\n",
        "        if self.count >= self.terms:\n",
        "            raise StopIteration\n",
        "        self.count += 1\n",
        "        self.a, self.b = self.b, self.a + self.b\n",
        "        return self.a\n",
        "\n",
        "# Example usage:\n",
        "fibonacci_sequence = FibonacciIterator(10)\n",
        "for number in fibonacci_sequence:\n",
        "    print(number)"
      ],
      "metadata": {
        "id": "1yhxFvtOj6No"
      },
      "execution_count": null,
      "outputs": []
    },
    {
      "cell_type": "markdown",
      "source": [
        "Q6- Write a generator function in Python that yields the powers of 2 up to a given exponent."
      ],
      "metadata": {
        "id": "W8GDbbnPj-IK"
      }
    },
    {
      "cell_type": "code",
      "source": [
        "def powers_of_2(max_exponent):\n",
        "    # Start with exponent 0\n",
        "    exponent = 0\n",
        "    while exponent <= max_exponent:\n",
        "        # Yield 2 raised to the current exponent\n",
        "        yield 2 ** exponent\n",
        "        # Move to the next exponent\n",
        "        exponent += 1\n",
        "\n",
        "# Example usage:\n",
        "for power in powers_of_2(5):\n",
        "    print(power)"
      ],
      "metadata": {
        "id": "lVAPsm-Yj-jx"
      },
      "execution_count": null,
      "outputs": []
    },
    {
      "cell_type": "markdown",
      "source": [
        "Q7- Implement a generator function that reads a file line by line and yields each line as a string.\n"
      ],
      "metadata": {
        "id": "8S0ewT-rkBh3"
      }
    },
    {
      "cell_type": "code",
      "source": [
        "def read_file_line_by_line(file_path):\n",
        "    \"\"\"Generator function to read a file line by line.\"\"\"\n",
        "    try:\n",
        "        with open(file_path, 'r') as file:\n",
        "            for line in file:\n",
        "                yield line.rstrip('\\n')  # Yield each line without the newline character\n",
        "    except FileNotFoundError:\n",
        "        print(f\"The file at {file_path} does not exist.\")\n",
        "    except IOError as e:\n",
        "        print(f\"An error occurred while reading the file: {e}\")\n",
        "\n",
        "# Example usage:\n",
        "file_path = 'example.txt'  # Replace with your file path\n",
        "for line in read_file_line_by_line(file_path):\n",
        "    print(line)"
      ],
      "metadata": {
        "id": "GADmnHfakD21"
      },
      "execution_count": null,
      "outputs": []
    },
    {
      "cell_type": "markdown",
      "source": [],
      "metadata": {
        "id": "JqZsqO3HjXpE"
      }
    },
    {
      "cell_type": "markdown",
      "source": [
        "Q8- Use a lambda function in Python to sort a list of tuples based on the second element of each tuple.\n"
      ],
      "metadata": {
        "id": "65y24XU7kGVE"
      }
    },
    {
      "cell_type": "code",
      "source": [
        "# List of tuples\n",
        "tuples_list = [(1, 5), (2, 1), (3, 9), (4, 3)]\n",
        "\n",
        "# Sort the list of tuples based on the second element of each tuple\n",
        "sorted_list = sorted(tuples_list, key=lambda x: x[1])\n",
        "\n",
        "# Print the sorted list\n",
        "print(sorted_list)\n",
        "\n"
      ],
      "metadata": {
        "id": "LsfY_NJkkK64"
      },
      "execution_count": null,
      "outputs": []
    },
    {
      "cell_type": "markdown",
      "source": [
        "Q9- Write a Python program that uses map() to convert a list of temperatures from Celsius to Fahrenheit."
      ],
      "metadata": {
        "id": "XYtXFXSBkNL8"
      }
    },
    {
      "cell_type": "code",
      "source": [
        "\n",
        "# List of temperatures in Celsius\n",
        "celsius_temperatures = [0, 10, 20, 30, 40]\n",
        "\n",
        "# Function to convert Celsius to Fahrenheit\n",
        "def celsius_to_fahrenheit(celsius):\n",
        "    return (celsius * 9/5) + 32\n",
        "\n",
        "# Use map() to apply the conversion function to each temperature in the list\n",
        "fahrenheit_temperatures = list(map(celsius_to_fahrenheit, celsius_temperatures))\n",
        "\n",
        "# Print the result\n",
        "print(fahrenheit_temperatures)\n",
        ""
      ],
      "metadata": {
        "id": "hEtF0JWPkQNt"
      },
      "execution_count": null,
      "outputs": []
    },
    {
      "cell_type": "markdown",
      "source": [
        "Q10- Create a Python program that uses filter() to remove all the vowels from a given string."
      ],
      "metadata": {
        "id": "inGufTK6kQ2Y"
      }
    },
    {
      "cell_type": "code",
      "source": [
        "def is_not_vowel(char):\n",
        "    # Define the set of vowels\n",
        "    vowels = 'aeiouAEIOU'\n",
        "    # Return True if the character is not a vowel\n",
        "    return char not in vowels\n",
        "\n",
        "def remove_vowels(input_string):\n",
        "    # Use filter() to apply is_not_vowel to each character in the string\n",
        "    filtered_chars = filter(is_not_vowel, input_string)\n",
        "    # Join the filtered characters back into a string\n",
        "    return ''.join(filtered_chars)\n",
        "\n",
        "# Example usage\n",
        "input_string = \"Hello, World!\"\n",
        "result = remove_vowels(input_string)\n",
        "print(result)\n",
        ""
      ],
      "metadata": {
        "id": "tSqU05WSkUGa"
      },
      "execution_count": null,
      "outputs": []
    },
    {
      "cell_type": "markdown",
      "source": [
        "Q11- Imagine an accounting routine used in a book shop. It works on a list with sublists, which look like this."
      ],
      "metadata": {
        "id": "Tz67NGwqkZqZ"
      }
    },
    {
      "cell_type": "markdown",
      "source": [
        "Ans- To solve this problem, you need to create a Python program that processes a list of orders and computes the total cost for each order. You will use lambda and map() to perform the required operations.\n",
        "\n",
        "Here's a step-by-step breakdown and the corresponding Python program:\n",
        "\n",
        "Define the Input Data:\n",
        "\n",
        "1- Order numbers\n",
        "\n",
        "2- Book titles & Authors\n",
        "\n",
        "3- Quantities\n",
        "\n",
        "4- Prices per item\n",
        "\n",
        "Process the Data:\n",
        "\n",
        "Compute the total cost for each order by multiplying the price per item by the quantity. Apply a conditional adjustment: if the computed cost is less than €100.00, increase it by €10.00.\n",
        "\n",
        "Use lambda and map() to Transform the Data: Define a lambda function to compute the adjusted total cost. Use map() to apply this lambda function to each order.\n",
        "\n",
        "Here’s the complete Python program to achieve this:"
      ],
      "metadata": {
        "id": "7gAH0hPHke2T"
      }
    },
    {
      "cell_type": "code",
      "source": [
        "# Define the input data\n",
        "orders = [\n",
        "    (\"34587\", 4, 40.95),\n",
        "    (\"98762\", 5, 56.80),\n",
        "    (\"77226\", 3, 32.95),\n",
        "    (\"88112\", 3, 24.99)\n",
        "]\n",
        "\n",
        "# Define the lambda function to calculate adjusted total cost\n",
        "adjusted_cost = lambda order: (\n",
        "    order[0],  # Order number\n",
        "    max(order[1] * order[2], 100) + (10 if order[1] * order[2] < 100 else 0)  # Adjusted cost\n",
        ")\n",
        "\n",
        "# Use map() to apply the lambda function to each order\n",
        "result = list(map(adjusted_cost, orders))\n",
        "\n",
        "# Print the result\n",
        "print(result)\n",
        ""
      ],
      "metadata": {
        "id": "Cr-UO2-7kfgO"
      },
      "execution_count": null,
      "outputs": []
    }
  ]
}