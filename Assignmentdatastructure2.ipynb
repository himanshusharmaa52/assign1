{
  "nbformat": 4,
  "nbformat_minor": 0,
  "metadata": {
    "colab": {
      "provenance": [],
      "authorship_tag": "ABX9TyMAWDRuJapMcm3t8UETHVDy",
      "include_colab_link": true
    },
    "kernelspec": {
      "name": "python3",
      "display_name": "Python 3"
    },
    "language_info": {
      "name": "python"
    }
  },
  "cells": [
    {
      "cell_type": "markdown",
      "metadata": {
        "id": "view-in-github",
        "colab_type": "text"
      },
      "source": [
        "<a href=\"https://colab.research.google.com/github/himanshusharmaa52/assign1/blob/main/Assignmentdatastructure2.ipynb\" target=\"_parent\"><img src=\"https://colab.research.google.com/assets/colab-badge.svg\" alt=\"Open In Colab\"/></a>"
      ]
    },
    {
      "cell_type": "code",
      "execution_count": null,
      "metadata": {
        "id": "zWW8_r6WCE7c"
      },
      "outputs": [],
      "source": []
    },
    {
      "cell_type": "markdown",
      "source": [
        "question 1.\n",
        "Discuss discuss string slicing and provide example ?\n",
        "\n",
        "Answer 1.\n",
        "\n",
        "String slicing is a powerful feature in Python that allows you to extract a portion of a string. You can specify the start and end indices, and optionally, a step value to slice strings in different ways. String slicing in Python is versatile and allows for a variety of manipulations, making it easy to extract and work with specific parts of strings.\n",
        "Examples:\n",
        "1.Basic Slicing:\n",
        "\n",
        "text = \"Hello, World!\"\n",
        "print(text[0:5])  \n",
        "\n",
        "2.Negative Indices:\n",
        "\n",
        "print(text[-6:-1])  \n",
        "\n",
        "3.Using a Step:\n",
        "\n",
        "print(text[::2])  \n",
        "\n",
        "4. Reversing a String:\n",
        "\n",
        "print(text[::-1])"
      ],
      "metadata": {
        "id": "dyJS52USCeEU"
      }
    },
    {
      "cell_type": "markdown",
      "source": [
        "Question 2.\n",
        "explain the key feature of list in python  ?\n",
        "\n",
        "answer 2\n",
        "Lists in Python are versatile and widely used data structures. Here are the key features:\n",
        "\n",
        "1.Ordered: Lists maintain the order of elements. The position of each element is fixed, and you can access them by index.\n",
        "\n",
        "2.Mutable: You can change, add, or remove elements after the list is created.\n",
        "\n",
        "3.Dynamic Size: Lists can grow or shrink in size as you add or remove items.\n",
        "\n",
        "4.Heterogeneous: Lists can contain elements of different data types (e.g., integers, strings, other lists).\n",
        "\n",
        "5.Indexed: Elements can be accessed using positive or negative indices, where negative indices count from the end.\n",
        "\n"
      ],
      "metadata": {
        "id": "u1NaKZHvDzvb"
      }
    },
    {
      "cell_type": "code",
      "source": [
        "#example\n",
        "my_list = [1, \"apple\", 3.14, True]\n",
        "my_list.append(\"banana\")  # Adds 'banana' to the list\n",
        "print(my_list)\n"
      ],
      "metadata": {
        "id": "avZYyqM8EJKw"
      },
      "execution_count": null,
      "outputs": []
    },
    {
      "cell_type": "markdown",
      "source": [
        "Question 3.\n",
        "Describe how to access, modify , delete elements in the list with example ?\n",
        "\n",
        "Answer 3.\n",
        " Access, modify, and delete elements in a Python list."
      ],
      "metadata": {
        "id": "TbtWo_WSEkWw"
      }
    },
    {
      "cell_type": "code",
      "source": [
        "#1. Accessing Elements:\n",
        "#You can access elements using their index.\n",
        "my_list = [10, 20, 30, 40]\n",
        "print(my_list[1])\n",
        "print(my_list[-1])"
      ],
      "metadata": {
        "colab": {
          "base_uri": "https://localhost:8080/"
        },
        "id": "SJ5aonZmE4d2",
        "outputId": "32e69427-c9bc-4f76-f02d-8cf14f50c1b3"
      },
      "execution_count": 7,
      "outputs": [
        {
          "output_type": "stream",
          "name": "stdout",
          "text": [
            "20\n",
            "40\n"
          ]
        }
      ]
    },
    {
      "cell_type": "code",
      "source": [
        "#2.Modifying Elements\n",
        "#You can change an element by assigning a new value to its index.\n",
        "my_list = [10, 20, 30, 40]\n",
        "my_list[2] = 35\n",
        "print(my_list)\n"
      ],
      "metadata": {
        "colab": {
          "base_uri": "https://localhost:8080/"
        },
        "id": "6ww-AMM7FkMk",
        "outputId": "713a308a-589d-4d51-f255-3c30842144b8"
      },
      "execution_count": 5,
      "outputs": [
        {
          "output_type": "stream",
          "name": "stdout",
          "text": [
            "[10, 20, 35, 40]\n"
          ]
        }
      ]
    },
    {
      "cell_type": "code",
      "source": [
        "#3.Deleting Elements\n",
        "#You can remove elements using del, remove, or pop.\n",
        "\n",
        "#Using del:\n",
        "\n",
        "my_list = [10, 20, 30, 40]\n",
        "del my_list[1]\n",
        "print(my_list)\n",
        "\n",
        "\n",
        "#Using remove:\n",
        "\n",
        "my_list = [10, 20, 30, 40]\n",
        "my_list.remove(20)\n",
        "print(my_list)\n",
        "\n",
        "#Using pop:\n",
        "\n",
        "popped_value = my_list.pop()\n",
        "print(popped_value)\n",
        "print(my_list)"
      ],
      "metadata": {
        "colab": {
          "base_uri": "https://localhost:8080/"
        },
        "id": "C4kYjJHZFvyP",
        "outputId": "06c34b89-f542-413b-96f6-f957ff6b43ae"
      },
      "execution_count": 3,
      "outputs": [
        {
          "output_type": "stream",
          "name": "stdout",
          "text": [
            "[10, 30, 40]\n",
            "[10, 30, 40]\n",
            "40\n",
            "[10, 30]\n"
          ]
        }
      ]
    },
    {
      "cell_type": "markdown",
      "source": [
        "Question 4 .\n",
        "compare and contrast tuple and list with example ?\n",
        "\n",
        "Answer 4.\n",
        "A simple comparison of tuples and lists in Python:\n",
        "\n",
        "Lists\n",
        "Mutable: You can change, add, or remove elements.\n",
        "Syntax: Defined with square brackets []."
      ],
      "metadata": {
        "id": "85WzuPCcHjdp"
      }
    },
    {
      "cell_type": "code",
      "source": [
        "#Example of List :\n",
        "my_list = [1, 2, 3]\n",
        "my_list.append(4)  # Can modify\n",
        "print(my_list)\n"
      ],
      "metadata": {
        "id": "ahy-skKfH8JE"
      },
      "execution_count": null,
      "outputs": []
    },
    {
      "cell_type": "markdown",
      "source": [
        "Tuples\n",
        "Immutable: Once created, you cannot change, add, or remove elements.\n",
        "Syntax: Defined with parentheses ().\n"
      ],
      "metadata": {
        "id": "Mz8bEdERIIS0"
      }
    },
    {
      "cell_type": "code",
      "source": [
        "# Example of Tuple :\n",
        "my_tuple = (1, 2, 3)\n",
        "# my_tuple.append(4)  # This would raise an error\n",
        "print(my_tuple)\n"
      ],
      "metadata": {
        "colab": {
          "base_uri": "https://localhost:8080/"
        },
        "id": "QT5rXS2FILR6",
        "outputId": "0688f291-49d6-4c5b-8b7d-928aeaf60383"
      },
      "execution_count": 8,
      "outputs": [
        {
          "output_type": "stream",
          "name": "stdout",
          "text": [
            "(1, 2, 3)\n"
          ]
        }
      ]
    },
    {
      "cell_type": "markdown",
      "source": [
        "Question 5.\n",
        "Describe the key features of sets and provide example of their use ?\n",
        "Answer 5.\n",
        "Sets in Python are unique collections that offer several key features:\n",
        "\n",
        "### Key Features of Sets\n",
        "\n",
        "1.Unordered: Sets do not maintain any particular order for their elements.\n",
        "\n",
        "2. Unique Elements: Sets automatically remove duplicate entries, so each element can only appear once.\n",
        "\n",
        "3. Mutable: You can add or remove elements after the set is created.\n",
        "\n",
        "4. Dynamic Size: Sets can grow or shrink as you add or remove items.\n",
        "\n",
        "5. Support for Mathematical Operations: Sets support operations like union, intersection, and difference.\n",
        "\n"
      ],
      "metadata": {
        "id": "13rnwlvSLJxF"
      }
    },
    {
      "cell_type": "code",
      "source": [
        "#Example of Set Usage:\n",
        "# Creating a set\n",
        "my_set = {1, 2, 3, 2}  # Duplicates will be removed\n",
        "print(my_set)\n",
        "\n",
        "# Adding elements\n",
        "my_set.add(4)\n",
        "print(my_set)\n",
        "\n",
        "# Removing elements\n",
        "my_set.remove(2)\n",
        "print(my_set)\n",
        "\n",
        "# Mathematical operations\n",
        "set_a = {1, 2, 3}\n",
        "set_b = {3, 4, 5}\n",
        "print(set_a.union(set_b))\n",
        "print(set_a.intersection(set_b))\n"
      ],
      "metadata": {
        "colab": {
          "base_uri": "https://localhost:8080/"
        },
        "id": "glfyvpEUL6NN",
        "outputId": "5e4b1c0b-aa70-427a-a688-af4725b49c47"
      },
      "execution_count": 9,
      "outputs": [
        {
          "output_type": "stream",
          "name": "stdout",
          "text": [
            "{1, 2, 3}\n",
            "{1, 2, 3, 4}\n",
            "{1, 3, 4}\n",
            "{1, 2, 3, 4, 5}\n",
            "{3}\n"
          ]
        }
      ]
    },
    {
      "cell_type": "markdown",
      "source": [
        "Question 6.\n",
        "Discuss the use case of tuples and sets in python programming ?\n",
        "\n",
        "\n",
        "Answer 6.\n"
      ],
      "metadata": {
        "id": "5ajBaLR6MZt3"
      }
    },
    {
      "cell_type": "code",
      "source": [
        "#1. Immutable Data: Tuples are great for storing data that shouldn’t change. For example, coordinates or configuration settings.\n",
        "point = (10, 20)  # Fixed coordinates\n"
      ],
      "metadata": {
        "id": "t10WbxdHMvWd"
      },
      "execution_count": null,
      "outputs": []
    },
    {
      "cell_type": "code",
      "source": [
        "#2 .Return Multiple Values: Functions can return multiple values as a tuple.\n",
        "def get_user_info():\n",
        "    return (\"Alice\", 30)\n",
        "name, age = get_user_info()\n",
        "#3. Dictionary Keys: Tuples can be used as keys in dictionaries because they are immutable.\n",
        "\n",
        "my_dict = { (1, 2): \"point A\" }\n",
        "\n"
      ],
      "metadata": {
        "id": "dLbfkxuTM7fF"
      },
      "execution_count": null,
      "outputs": []
    },
    {
      "cell_type": "markdown",
      "source": [
        "Use Cases of Sets in Python\n",
        "1. Removing Duplicates: Sets are perfect for eliminating duplicate items from a collection.\n",
        "\n"
      ],
      "metadata": {
        "id": "j0s6YbGWNUNW"
      }
    },
    {
      "cell_type": "code",
      "source": [
        "#1.\n",
        "my_list = [1, 2, 2, 3, 4]\n",
        "unique_set = set(my_list)\n",
        "#2. Membership Testing: Checking if an item exists in a set is faster than in a list.\n",
        "my_set = {1, 2, 3}\n",
        "print(2 in my_set)\n",
        "#3. Mathematical Operations: Sets can easily perform operations like union, intersection, and difference.\n",
        "set_a = {1, 2, 3}\n",
        "set_b = {2, 3, 4}\n",
        "print(set_a.intersection(set_b))\n",
        "\n"
      ],
      "metadata": {
        "id": "l4rUjg0PNb0o"
      },
      "execution_count": null,
      "outputs": []
    },
    {
      "cell_type": "markdown",
      "source": [
        "Question 7.\n",
        " Describe how to add, modify  and delete items in a dictionary with example ?\n",
        "\n",
        " Answer 7. To add, modify, and delete items in a Python dictionary."
      ],
      "metadata": {
        "id": "kMd46boDOW7l"
      }
    },
    {
      "cell_type": "code",
      "source": [
        "#Adding Items\n",
        "#You can add new key-value pairs simply by assigning a value to a new key.\n",
        "my_dict = {'name': 'Alice', 'age': 30}\n",
        "my_dict['city'] = 'New York'  # Add a new item\n",
        "print(my_dict)\n",
        "\n",
        "#2Modifying Items\n",
        "#To change the value associated with a key, just assign a new value to that key.\n",
        "my_dict['age'] = 31  # Modify the age\n",
        "print(my_dict)\n",
        "\n",
        "#3. Deleting Items\n",
        "#You can remove items using del, pop(), or popitem().\n",
        "\n",
        "#Using del:\n",
        "\n",
        "\n",
        "#del my_dict['city']  # Remove the 'city' key\n",
        "print(my_dict)\n",
        "#Using pop() (removes and returns the value):\n",
        "\n",
        "\n",
        "age = my_dict.pop('age')  # Remove 'age' and get its value\n",
        "print(age)\n",
        "print(my_dict)\n",
        "#Using popitem() (removes and returns the last inserted key-value pair):\n",
        "\n",
        "\n",
        "my_dict['country'] = 'USA'\n",
        "item = my_dict.popitem()  # Remove the last item\n",
        "print(item)\n",
        "print(my_dict)\n",
        "\n"
      ],
      "metadata": {
        "colab": {
          "base_uri": "https://localhost:8080/"
        },
        "id": "qM1Uo3nbOsBR",
        "outputId": "3e463805-9a5f-4fec-a9e3-a3661c80e141"
      },
      "execution_count": 10,
      "outputs": [
        {
          "output_type": "stream",
          "name": "stdout",
          "text": [
            "{'name': 'Alice', 'age': 30, 'city': 'New York'}\n",
            "{'name': 'Alice', 'age': 31, 'city': 'New York'}\n",
            "{'name': 'Alice', 'age': 31, 'city': 'New York'}\n",
            "31\n",
            "{'name': 'Alice', 'city': 'New York'}\n",
            "('country', 'USA')\n",
            "{'name': 'Alice', 'city': 'New York'}\n"
          ]
        }
      ]
    },
    {
      "cell_type": "markdown",
      "source": [
        "Question 8. Discuss the importance of dictionary keys being immutable and provide examples ?"
      ],
      "metadata": {
        "id": "tPaJQq7YQFdU"
      }
    },
    {
      "cell_type": "code",
      "source": [
        "#Answer 8.\n",
        "#The immutability of dictionary keys in Python is important for several reasons:\n",
        "\n",
        "### 1. Consistency and Reliability**\n",
        "  # - Since keys must be immutable, it ensures that the keys remain constant throughout the lifetime of the dictionary. This prevents unexpected changes.\n",
        "\n",
        "   #Example:\n",
        "\n",
        "my_dict = { (1, 2): \"point A\" }  # Tuple as a key\n",
        "   # my_dict[(1, 2)] = \"new point\"  # This is fine; the tuple remains unchanged.\n",
        "\n",
        "# 2. Hashing\n",
        " #  - Dictionaries use hashing to quickly retrieve values based on keys. Immutable types (like strings, numbers, and tuples) have a consistent hash value, while mutable types (like lists and dictionaries) do not.\n",
        "\n",
        "  # Example:\n",
        "\n",
        "my_dict = { \"name\": \"Alice\" }  # String as a key\n",
        "print(my_dict[\"name\"])  # Fast retrieval\n",
        "\n",
        "### 3. **Avoiding Errors**\n",
        "#   - If mutable objects were allowed as keys, modifying them could lead to errors or unexpected behavior when trying to access values.\n",
        "\n",
        " #  Example:\n",
        "\n",
        "   # This would lead to problems\n",
        "my_dict = { [1, 2]: \"list key\" }"
      ],
      "metadata": {
        "id": "4vFA3zGSQMii"
      },
      "execution_count": null,
      "outputs": []
    }
  ]
}