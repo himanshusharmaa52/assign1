{
  "nbformat": 4,
  "nbformat_minor": 0,
  "metadata": {
    "colab": {
      "provenance": [],
      "authorship_tag": "ABX9TyNMbhsdeW11TKQuU3+UO0ko",
      "include_colab_link": true
    },
    "kernelspec": {
      "name": "python3",
      "display_name": "Python 3"
    },
    "language_info": {
      "name": "python"
    }
  },
  "cells": [
    {
      "cell_type": "markdown",
      "metadata": {
        "id": "view-in-github",
        "colab_type": "text"
      },
      "source": [
        "<a href=\"https://colab.research.google.com/github/himanshusharmaa52/assign1/blob/main/Assignment01_pdf.ipynb\" target=\"_parent\"><img src=\"https://colab.research.google.com/assets/colab-badge.svg\" alt=\"Open In Colab\"/></a>"
      ]
    },
    {
      "cell_type": "code",
      "source": [],
      "metadata": {
        "id": "b-1P3Nl9q9_A"
      },
      "execution_count": null,
      "outputs": []
    },
    {
      "cell_type": "markdown",
      "source": [],
      "metadata": {
        "id": "lpWyZ6darqRo"
      }
    },
    {
      "cell_type": "markdown",
      "source": [
        "# question number 1--> explain the key features of python that make it popular choice for programming ?\n",
        "\n",
        "\n",
        "#Ans\n",
        "The key features of python that make it popular choice for programming are -\n",
        "1.Easy to Combine with Other Languages: Python works well with other programming languages like C++ or Java.\n",
        "2.Many Libraries- There are pre-built libraries for almost many things like data science, and machine learning.\n",
        "3.Beginner-Friendly - It's great for new programmers because of its straightforward syntax.\n",
        "4.Easy to Read: Python's code looks like plain English, making it simple to write and understand.\n"
      ],
      "metadata": {
        "id": "QTnO5xnEqr2F"
      }
    },
    {
      "cell_type": "markdown",
      "source": [
        "#question 2\n",
        "\n",
        "#Answer 2\n",
        "Role of Predefined Keywords:\n",
        "1.Control program flow: They help in controlling the flow of the program, like with loops or conditionals.\n",
        "2.Define data types and structures: Keywords help define how data is stored and manipulated.\n",
        "3.Create functions and classes: They are used to define reusable code blocks and objects.\n",
        "4.Handle errors: Keywords allow the management of exceptions or errors in code execution.\n",
        "\n",
        "Examples of Keywords and Their Uses:\n",
        "if, elif, else:\n",
        "\n",
        "These keywords are used to create conditional statements that run code based on whether a condition is True or False.\n",
        "python.\n",
        "#\n",
        "age = 18\n",
        "if age >= 18:\n",
        "    print(\"You are an adult.\")\n",
        "elif age >= 13:\n",
        "    print(\"You are a teenager.\")\n",
        "else:\n",
        "    print(\"You are a child.\")\n",
        "\n"
      ],
      "metadata": {
        "id": "ZXqgNh-YrvG_"
      }
    },
    {
      "cell_type": "markdown",
      "source": [],
      "metadata": {
        "id": "-SV4fymtsY0y"
      }
    },
    {
      "cell_type": "code",
      "source": [
        "Examples of Keywords and Their Uses:\n",
        "if, elif, else:\n",
        "\n",
        "These keywords are used to create conditional statements that run code based on whether a condition is True or False.\n",
        "python\n",
        "Copy code\n",
        "age = 18\n",
        "if age >= 18:\n",
        "    print(\"You are an adult.\")\n",
        "elif age >= 13:\n",
        "    print(\"You are a teenager.\")\n",
        "else:\n",
        "    print(\"You are a child.\")\n"
      ],
      "metadata": {
        "id": "_zgQruN_shXe"
      },
      "execution_count": null,
      "outputs": []
    },
    {
      "cell_type": "markdown",
      "source": [
        "# question 3\n",
        "\n",
        "#Answer 3\n",
        "\n",
        "Mutable Objects -\n",
        "1.Mutable objects can be changed after they are created. You can modify their content or state without creating a new object.\n",
        "2.Examples: Lists, dictionaries, sets, byte arrays.\n",
        "3.Changeable: You can alter elements of the object directly.\n",
        "4.Same Identity: The object keeps the same memory address even after modification.\n",
        "5.Efficient: Mutating objects can be more efficient when large data structures need to be modified in place.\n",
        "\n",
        "\n",
        "Immutable Objects -\n",
        "--> Immutable objects cannot be changed after they are created. Any operation that appears to modify an immutable object actually creates a new object.\n",
        "2.Examples: Strings, tuples, integers, floats, frozen sets.\n",
        "3.Unchangeable: Once created, you cannot modify the object's content.\n",
        "4.New Identity: Any operation that appears to modify the object will create a new object with a different memory address.\n"
      ],
      "metadata": {
        "id": "V2Q7BmbZtj4Z"
      }
    },
    {
      "cell_type": "code",
      "source": [
        "# example of mutable list\n",
        "my_list = [1, 2, 3]\n",
        "my_list[1] = 4  # List can be modified\n",
        "# example of Immutable (String):\n",
        "my_string = \"Hello\"\n",
        "my_string = my_string + \" World\"  # Creates new string\n"
      ],
      "metadata": {
        "id": "jcmkM_bnvy0i"
      },
      "execution_count": null,
      "outputs": []
    },
    {
      "cell_type": "markdown",
      "source": [
        "Answer 4\n",
        "The different types of operators in Python with simple example:\n",
        "1. Arithmetic Operators-\n",
        "Perform basic math operations.\n",
        "2. Comparison Operators\n",
        "Compare values and return True or False.\n",
        "3. Assignment Operators\n",
        "Assign values to variables.\n",
        "4. Logical Operators\n",
        "Used to combine conditions.\n",
        "5.Bitwise Operators\n",
        "Operate on binary numbers.\n",
        "AND,OR,XOR\n",
        "# examples are given below"
      ],
      "metadata": {
        "id": "vSgYwfPOwL0y"
      }
    },
    {
      "cell_type": "code",
      "source": [
        "# Arithmetic Operators\n",
        "x = 10\n",
        "y = 2\n",
        "print(x + y)\n",
        "# Comparison Operators\n",
        "a = 5\n",
        "b = 3\n",
        "print(a > b)\n",
        "# Assignment Operators\n",
        "x = 10\n",
        "x += 5\n",
        "#Logical Operators\n",
        "x = 5\n",
        "print(x > 3 and x < 10)\n",
        "#Bitwise Operators\n",
        "a = 5\n",
        "print(a & b)\n",
        "\n"
      ],
      "metadata": {
        "id": "HKAYBDYYx3la"
      },
      "execution_count": null,
      "outputs": []
    },
    {
      "cell_type": "markdown",
      "source": [
        "#question 5\n",
        "Type casting in Python is converting one data type into another. It can be implicit or explicit .\n",
        "1. Implicit Type Casting:\n",
        "Python automatically converts types.\n",
        "2.2. Explicit Type Casting:\n",
        "You manually convert types using functions like int,float,str.\n",
        " # examples are given down :\n",
        "\n"
      ],
      "metadata": {
        "id": "4KhpvqD0ynSw"
      }
    },
    {
      "cell_type": "code",
      "source": [
        " #Implicit Type Casting:\n",
        " x = 5\n",
        "y = 2.5\n",
        "z = x + y\n",
        "print(z)\n",
        "# Explicit Type Casting:\n",
        "#Convert string to integer:\n",
        "num = \"10\"\n",
        "num_int = int(num)\n",
        "print(num_int)\n",
        "#Convert float to integer:\n",
        "pi = 3.14\n",
        "pi_int = int(pi)\n",
        "print(pi_int)\n",
        "\n"
      ],
      "metadata": {
        "id": "KDdBCCAdzQrR"
      },
      "execution_count": null,
      "outputs": []
    },
    {
      "cell_type": "markdown",
      "source": [
        "\n",
        " Answer 6.\n",
        " Conditional statements in Python control the flow of the program by executing different blocks of code based on certain conditions. The most common conditional statements are if, elif, and else.\n",
        "\n",
        "Syntax:\n",
        "if: Runs if the condition is true.\n",
        "elif: Runs if the previous conditions were false and this condition is true.\n",
        "else: Runs if none of the above conditions were true."
      ],
      "metadata": {
        "id": "rFFfpx1T0JOo"
      }
    },
    {
      "cell_type": "code",
      "source": [
        "#example\n",
        "age = 18\n",
        "\n",
        "if age < 13:\n",
        "    print(\"You are a child.\")\n",
        "elif age < 18:\n",
        "    print(\"You are a teenager.\")\n",
        "else:\n",
        "    print(\"You are an adult.\")\n"
      ],
      "metadata": {
        "id": "R7_godfn0ayI"
      },
      "execution_count": null,
      "outputs": []
    },
    {
      "cell_type": "markdown",
      "source": [
        "Answer 7\n",
        "1. For Loop\n",
        "Used to iterate over a sequence (like a list, tuple, string, or range).\n",
        "\n",
        "Use Case:\n",
        "When you know the number of iterations in advance.\n",
        "2. 2. While Loop\n",
        "Repeats a block of code as long as a condition is true.\n",
        "\n",
        "Use Case:\n",
        "When the number of iterations is not known beforehand.\n",
        "3. Nested Loops\n",
        "A loop inside another loop.\n",
        "\n",
        "Use Case:\n",
        "When you need to perform operations on multi-dimensional data.\n",
        "example are giveen below:-"
      ],
      "metadata": {
        "id": "l--C_JfS0evJ"
      }
    },
    {
      "cell_type": "code",
      "source": [
        "#1. For Loop\n",
        "# Iterating over a list\n",
        "fruits = [\"apple\", \"banana\", \"cherry\"]\n",
        "for fruit in fruits:\n",
        "    print(fruit)\n",
        "#2. While Loop\n",
        "# Using a while loop\n",
        "count = 0\n",
        "while count < 5:\n",
        "    print(count)\n",
        "    count += 1\n",
        "#3. Nested Loops\n",
        "# Nested loops\n",
        "for i in range(3):\n",
        "    for j in range(2):\n",
        "        print(f\"i: {i}, j: {j}\")\n",
        "\n",
        "\n"
      ],
      "metadata": {
        "id": "ByJ8q5-R1P90"
      },
      "execution_count": null,
      "outputs": []
    }
  ]
}